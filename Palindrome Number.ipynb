{
 "cells": [
  {
   "cell_type": "code",
   "execution_count": 5,
   "id": "54ddabf3",
   "metadata": {},
   "outputs": [
    {
     "name": "stdout",
     "output_type": "stream",
     "text": [
      "Please enter a number: 22\n",
      "The number is a palindrome\n"
     ]
    }
   ],
   "source": [
    "def isPalindromeNumber(n):\n",
    "    temp = n\n",
    "    rev=0 \n",
    "    while(n>0):\n",
    "        dig=n%10 \n",
    "        rev=rev*10+dig \n",
    "        n=n//10\n",
    "    return temp == rev\n",
    "num = int(input(\"Please enter a number: \")) \n",
    "palindrome = isPalindromeNumber(num)\n",
    "if palindrome:\n",
    "    print(\"The number is a palindrome\")\n",
    "else:\n",
    "    print(\"The number is not a palindrome\")\n"
   ]
  }
 ],
 "metadata": {
  "kernelspec": {
   "display_name": "Python 3 (ipykernel)",
   "language": "python",
   "name": "python3"
  },
  "language_info": {
   "codemirror_mode": {
    "name": "ipython",
    "version": 3
   },
   "file_extension": ".py",
   "mimetype": "text/x-python",
   "name": "python",
   "nbconvert_exporter": "python",
   "pygments_lexer": "ipython3",
   "version": "3.10.1"
  }
 },
 "nbformat": 4,
 "nbformat_minor": 5
}
